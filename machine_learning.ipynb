{
 "cells": [
  {
   "cell_type": "markdown",
   "id": "d2f091be-66a1-4b87-9a0b-240e85f02418",
   "metadata": {},
   "source": [
    "# Machine Learning"
   ]
  },
  {
   "cell_type": "code",
   "execution_count": 17,
   "id": "8eb53a22-d9af-4934-94c2-4c78d924163e",
   "metadata": {},
   "outputs": [],
   "source": [
    "from pyspark import SparkContext\n",
    "from pyspark.mllib.util import MLUtils\n",
    "from pyspark.ml.classification import LogisticRegression"
   ]
  },
  {
   "cell_type": "code",
   "execution_count": 11,
   "id": "89c1d152-5010-468b-9ec9-ef078cb6ab9d",
   "metadata": {},
   "outputs": [],
   "source": [
    "spark = SparkSession.builder \\\n",
    "    .master(\"local[16]\") \\\n",
    "    .appName(\"machine_learning\") \\\n",
    "    .getOrCreate()"
   ]
  },
  {
   "cell_type": "markdown",
   "id": "c5dfcfd8-52af-48d3-8f76-acb73aea3958",
   "metadata": {},
   "source": [
    "## Loading the Data"
   ]
  },
  {
   "cell_type": "code",
   "execution_count": 24,
   "id": "a84284fa-8573-45ff-92a2-76e35afdeba2",
   "metadata": {},
   "outputs": [],
   "source": [
    "data_A = spark.read.format(\"libsvm\").option(\"numFeatures\", 3000).load(\"data/model_A\")\n",
    "data_B = spark.read.format(\"libsvm\").option(\"numFeatures\", 5000).load(\"data/model_B\")\n",
    "data_C = spark.read.format(\"libsvm\").option(\"numFeatures\", 5000).load(\"data/model_C\")"
   ]
  },
  {
   "cell_type": "code",
   "execution_count": 25,
   "id": "4aeb7eed-b151-48fe-b4aa-972e492200c0",
   "metadata": {},
   "outputs": [
    {
     "name": "stdout",
     "output_type": "stream",
     "text": [
      "Row(label=1.0, features=SparseVector(3000, {109: 1.0, 938: 1.0, 971: 1.0, 1884: 1.0, 2212: 1.0, 2632: 1.0, 2805: 1.0}))\n",
      "Row(label=1.0, features=SparseVector(3000, {2736: 1.0}))\n",
      "Row(label=1.0, features=SparseVector(3000, {455: 1.0, 2058: 1.0}))\n",
      "Row(label=1.0, features=SparseVector(3000, {387: 1.0, 637: 1.0, 2583: 1.0}))\n",
      "Row(label=1.0, features=SparseVector(3000, {20: 1.0, 40: 1.0, 1866: 1.0, 2375: 1.0}))\n"
     ]
    }
   ],
   "source": [
    "for a in data_A.take(5):\n",
    "    print(a)"
   ]
  },
  {
   "cell_type": "code",
   "execution_count": 42,
   "id": "91e0c4d8-0e61-4ceb-ab5f-a45496326ae3",
   "metadata": {},
   "outputs": [
    {
     "name": "stderr",
     "output_type": "stream",
     "text": [
      "                                                                                \r"
     ]
    },
    {
     "name": "stdout",
     "output_type": "stream",
     "text": [
      "Coefficients: [-0.02276131  0.04061249 -0.01800351  0.08505367 -0.05994562 -0.24979415\n",
      "  0.02310766 -0.01446619 -0.14054308  0.00888738]\n",
      "Intercept: 1.9085418487210157\n"
     ]
    }
   ],
   "source": [
    "lr = LogisticRegression(maxIter=10, regParam=0.3)\n",
    "\n",
    "# Fit the model\n",
    "lrModel = lr.fit(data_A)\n",
    "\n",
    "# Print the coefficients and intercept for logistic regression\n",
    "print(\"Coefficients: \" + str(lrModel.coefficients[:10]))\n",
    "print(\"Intercept: \" + str(lrModel.intercept))"
   ]
  },
  {
   "cell_type": "code",
   "execution_count": 39,
   "id": "142f62df-ff42-4914-becc-2eddf90b2b66",
   "metadata": {},
   "outputs": [
    {
     "name": "stdout",
     "output_type": "stream",
     "text": [
      "+--------------------+--------------------+\n",
      "|                 FPR|                 TPR|\n",
      "+--------------------+--------------------+\n",
      "|                 0.0|                 0.0|\n",
      "|                 0.0|9.193716120151319E-4|\n",
      "|                 0.0|0.001838743224030...|\n",
      "|                 0.0|0.002798305944767369|\n",
      "|                 0.0|0.003788011997045...|\n",
      "|3.263707571801566...|0.004737526940602565|\n",
      "|6.527415143603133E-5| 0.00568201799556893|\n",
      "|  9.7911227154047E-5|0.006661676270667022|\n",
      "|  9.7911227154047E-5|0.007626262879994373|\n",
      "|  9.7911227154047E-5|0.008580801712141232|\n",
      "|  9.7911227154047E-5|0.009600651095961296|\n",
      "|  9.7911227154047E-5|0.010555189928108154|\n",
      "|1.305483028720626...|0.011564991534747725|\n",
      "|1.631853785900783...| 0.01255469758702631|\n",
      "|1.631853785900783...| 0.01350923641917317|\n",
      "|1.631853785900783...|0.014508990248632246|\n",
      "|2.610966057441253E-4|0.015433385749237624|\n",
      "|3.590078328981723E-4|0.016418067912925962|\n",
      "| 3.91644908616188E-4| 0.01738767841084356|\n",
      "|4.242819843342036...|0.018407527794663626|\n",
      "+--------------------+--------------------+\n",
      "only showing top 20 rows\n",
      "\n",
      "areaUnderROC: 0.890329777147123\n"
     ]
    },
    {
     "data": {
      "text/plain": [
       "LogisticRegression_e90508e1ed95"
      ]
     },
     "execution_count": 39,
     "metadata": {},
     "output_type": "execute_result"
    }
   ],
   "source": [
    "# Extract the summary from the returned LogisticRegressionModel instance trained\n",
    "# in the earlier example\n",
    "trainingSummary = lrModel.summary\n",
    "\n",
    "# Obtain the objective per iteration\n",
    "# objectiveHistory = trainingSummary.objectiveHistory\n",
    "# print(\"objectiveHistory:\")\n",
    "# for objective in objectiveHistory:\n",
    "#     print(objective)\n",
    "\n",
    "# Obtain the receiver-operating characteristic as a dataframe and areaUnderROC.\n",
    "trainingSummary.roc.show()\n",
    "print(\"areaUnderROC: \" + str(trainingSummary.areaUnderROC))\n",
    "\n",
    "# Set the model threshold to maximize F-Measure\n",
    "fMeasure = trainingSummary.fMeasureByThreshold\n",
    "maxFMeasure = fMeasure.groupBy().max('F-Measure').select('max(F-Measure)').head()\n",
    "bestThreshold = fMeasure.where(fMeasure['F-Measure'] == maxFMeasure['max(F-Measure)']) \\\n",
    "    .select('threshold').head()['threshold']\n",
    "lr.setThreshold(bestThreshold)"
   ]
  },
  {
   "cell_type": "code",
   "execution_count": 40,
   "id": "33e74438-9360-4e56-bcb1-e61d37c08be2",
   "metadata": {},
   "outputs": [
    {
     "name": "stdout",
     "output_type": "stream",
     "text": [
      "0.7567948307093846\n"
     ]
    }
   ],
   "source": [
    "print(lr.getThreshold())"
   ]
  },
  {
   "cell_type": "code",
   "execution_count": 41,
   "id": "283b2172-709c-486c-9b1c-1ec8cdd20592",
   "metadata": {},
   "outputs": [
    {
     "name": "stdout",
     "output_type": "stream",
     "text": [
      "Accuracy :  0.8772339990160608\n"
     ]
    }
   ],
   "source": [
    "predictions = lrModel.transform(data_A)\n",
    "\n",
    "accuracy = predictions.filter(predictions.label == predictions.prediction).count() / float(predictions.count())\n",
    "print(\"Accuracy : \",accuracy)"
   ]
  }
 ],
 "metadata": {
  "kernelspec": {
   "display_name": "Python 3 (ipykernel)",
   "language": "python",
   "name": "python3"
  },
  "language_info": {
   "codemirror_mode": {
    "name": "ipython",
    "version": 3
   },
   "file_extension": ".py",
   "mimetype": "text/x-python",
   "name": "python",
   "nbconvert_exporter": "python",
   "pygments_lexer": "ipython3",
   "version": "3.8.10"
  }
 },
 "nbformat": 4,
 "nbformat_minor": 5
}
