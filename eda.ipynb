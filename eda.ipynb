{
 "cells": [
  {
   "cell_type": "code",
   "execution_count": 2,
   "id": "507350ce-4bdb-4c75-9a81-e4e8eb8cfe6c",
   "metadata": {},
   "outputs": [],
   "source": [
    "import pandas as pd\n",
    "import gzip\n",
    "import json"
   ]
  },
  {
   "cell_type": "code",
   "execution_count": 4,
   "id": "ffd36aca-e5c8-4322-b83c-c741349d95c9",
   "metadata": {},
   "outputs": [],
   "source": [
    "def parse(path):\n",
    "  g = gzip.open(path, 'rb')\n",
    "  for l in g:\n",
    "    yield json.loads(l)\n",
    "\n",
    "def getDF(path):\n",
    "  i = 0\n",
    "  df = {}\n",
    "  for d in parse(path):\n",
    "    df[i] = d\n",
    "    i += 1\n",
    "  return pd.DataFrame.from_dict(df, orient='index')\n",
    "\n",
    "df = getDF('data/Musical_Instruments_5.json.gz')"
   ]
  },
  {
   "cell_type": "code",
   "execution_count": 5,
   "id": "b7e07baa-21b4-4216-89ae-a7ad616c1d11",
   "metadata": {},
   "outputs": [
    {
     "data": {
      "text/html": [
       "<div>\n",
       "<style scoped>\n",
       "    .dataframe tbody tr th:only-of-type {\n",
       "        vertical-align: middle;\n",
       "    }\n",
       "\n",
       "    .dataframe tbody tr th {\n",
       "        vertical-align: top;\n",
       "    }\n",
       "\n",
       "    .dataframe thead th {\n",
       "        text-align: right;\n",
       "    }\n",
       "</style>\n",
       "<table border=\"1\" class=\"dataframe\">\n",
       "  <thead>\n",
       "    <tr style=\"text-align: right;\">\n",
       "      <th></th>\n",
       "      <th>overall</th>\n",
       "      <th>verified</th>\n",
       "      <th>reviewTime</th>\n",
       "      <th>reviewerID</th>\n",
       "      <th>asin</th>\n",
       "      <th>reviewerName</th>\n",
       "      <th>reviewText</th>\n",
       "      <th>summary</th>\n",
       "      <th>unixReviewTime</th>\n",
       "      <th>vote</th>\n",
       "      <th>style</th>\n",
       "      <th>image</th>\n",
       "    </tr>\n",
       "  </thead>\n",
       "  <tbody>\n",
       "    <tr>\n",
       "      <th>0</th>\n",
       "      <td>5.0</td>\n",
       "      <td>True</td>\n",
       "      <td>10 30, 2016</td>\n",
       "      <td>A3FO5AKVTFRCRJ</td>\n",
       "      <td>0739079891</td>\n",
       "      <td>francisco</td>\n",
       "      <td>It's good for beginners</td>\n",
       "      <td>Five Stars</td>\n",
       "      <td>1477785600</td>\n",
       "      <td>NaN</td>\n",
       "      <td>NaN</td>\n",
       "      <td>NaN</td>\n",
       "    </tr>\n",
       "    <tr>\n",
       "      <th>1</th>\n",
       "      <td>5.0</td>\n",
       "      <td>True</td>\n",
       "      <td>06 30, 2016</td>\n",
       "      <td>A3UCGC1DHFMBCE</td>\n",
       "      <td>0739079891</td>\n",
       "      <td>Eb Jack Murray</td>\n",
       "      <td>I recommend this starter Ukulele kit.  I has e...</td>\n",
       "      <td>Five Stars</td>\n",
       "      <td>1467244800</td>\n",
       "      <td>NaN</td>\n",
       "      <td>NaN</td>\n",
       "      <td>NaN</td>\n",
       "    </tr>\n",
       "    <tr>\n",
       "      <th>2</th>\n",
       "      <td>5.0</td>\n",
       "      <td>True</td>\n",
       "      <td>05 9, 2016</td>\n",
       "      <td>A2S9SLRYLPGYZB</td>\n",
       "      <td>0739079891</td>\n",
       "      <td>Clara LaMarr</td>\n",
       "      <td>G'daughter received this for Christmas present...</td>\n",
       "      <td>Learning new songs to play regularly</td>\n",
       "      <td>1462752000</td>\n",
       "      <td>NaN</td>\n",
       "      <td>NaN</td>\n",
       "      <td>NaN</td>\n",
       "    </tr>\n",
       "    <tr>\n",
       "      <th>3</th>\n",
       "      <td>4.0</td>\n",
       "      <td>True</td>\n",
       "      <td>04 10, 2016</td>\n",
       "      <td>A15RTJWPG8OKOE</td>\n",
       "      <td>0739079891</td>\n",
       "      <td>Eagle80</td>\n",
       "      <td>According to my order history, I bought this t...</td>\n",
       "      <td>A bargain-bin good-enough ukulele that's held ...</td>\n",
       "      <td>1460246400</td>\n",
       "      <td>NaN</td>\n",
       "      <td>NaN</td>\n",
       "      <td>NaN</td>\n",
       "    </tr>\n",
       "    <tr>\n",
       "      <th>4</th>\n",
       "      <td>1.0</td>\n",
       "      <td>True</td>\n",
       "      <td>02 6, 2016</td>\n",
       "      <td>A12ET1WO3OAVU7</td>\n",
       "      <td>0739079891</td>\n",
       "      <td>Amazon Customer</td>\n",
       "      <td>Please pay attention better than I did to the ...</td>\n",
       "      <td>Poor Quality product.</td>\n",
       "      <td>1454716800</td>\n",
       "      <td>NaN</td>\n",
       "      <td>NaN</td>\n",
       "      <td>NaN</td>\n",
       "    </tr>\n",
       "  </tbody>\n",
       "</table>\n",
       "</div>"
      ],
      "text/plain": [
       "   overall  verified   reviewTime      reviewerID        asin  \\\n",
       "0      5.0      True  10 30, 2016  A3FO5AKVTFRCRJ  0739079891   \n",
       "1      5.0      True  06 30, 2016  A3UCGC1DHFMBCE  0739079891   \n",
       "2      5.0      True   05 9, 2016  A2S9SLRYLPGYZB  0739079891   \n",
       "3      4.0      True  04 10, 2016  A15RTJWPG8OKOE  0739079891   \n",
       "4      1.0      True   02 6, 2016  A12ET1WO3OAVU7  0739079891   \n",
       "\n",
       "      reviewerName                                         reviewText  \\\n",
       "0        francisco                            It's good for beginners   \n",
       "1   Eb Jack Murray  I recommend this starter Ukulele kit.  I has e...   \n",
       "2     Clara LaMarr  G'daughter received this for Christmas present...   \n",
       "3          Eagle80  According to my order history, I bought this t...   \n",
       "4  Amazon Customer  Please pay attention better than I did to the ...   \n",
       "\n",
       "                                             summary  unixReviewTime vote  \\\n",
       "0                                         Five Stars      1477785600  NaN   \n",
       "1                                         Five Stars      1467244800  NaN   \n",
       "2               Learning new songs to play regularly      1462752000  NaN   \n",
       "3  A bargain-bin good-enough ukulele that's held ...      1460246400  NaN   \n",
       "4                              Poor Quality product.      1454716800  NaN   \n",
       "\n",
       "  style image  \n",
       "0   NaN   NaN  \n",
       "1   NaN   NaN  \n",
       "2   NaN   NaN  \n",
       "3   NaN   NaN  \n",
       "4   NaN   NaN  "
      ]
     },
     "execution_count": 5,
     "metadata": {},
     "output_type": "execute_result"
    }
   ],
   "source": [
    "df.head()"
   ]
  },
  {
   "cell_type": "code",
   "execution_count": 6,
   "id": "0a244fb7-aa19-41cc-a9f3-bbf37ba2f14a",
   "metadata": {},
   "outputs": [
    {
     "data": {
      "text/plain": [
       "5.0    161837\n",
       "4.0     38783\n",
       "3.0     16030\n",
       "1.0      7465\n",
       "2.0      7277\n",
       "Name: overall, dtype: int64"
      ]
     },
     "execution_count": 6,
     "metadata": {},
     "output_type": "execute_result"
    }
   ],
   "source": [
    "df['overall'].value_counts()"
   ]
  },
  {
   "cell_type": "code",
   "execution_count": 7,
   "id": "9a2d64b2-6fe0-4e95-bc66-4065ffe1a3d3",
   "metadata": {},
   "outputs": [
    {
     "data": {
      "image/png": "[encoded data removed]",
      "text/plain": [
       "<Figure size 640x480 with 1 Axes>"
      ]
     },
     "metadata": {},
     "output_type": "display_data"
    }
   ],
   "source": [
    "# Imports\n",
    "import matplotlib.pyplot as plt\n",
    "import seaborn as sns\n",
    "color = sns.color_palette()\n",
    "# Product Scores\n",
    "sns.histplot(df, x=\"overall\", discrete=True)\n",
    "plt.show()"
   ]
  },
  {
   "cell_type": "markdown",
   "id": "8acd2acb-8c31-4ad2-9cd0-1d6bec524c81",
   "metadata": {},
   "source": [
    "## Data Cleaning"
   ]
  },
  {
   "cell_type": "code",
   "execution_count": 8,
   "id": "335396be-c229-42c7-bd3a-83003b3b22f1",
   "metadata": {},
   "outputs": [],
   "source": [
    "from pyspark.sql import SparkSession"
   ]
  },
  {
   "cell_type": "code",
   "execution_count": 1,
   "id": "12621b75-25c3-41d1-80e4-b93be955b67d",
   "metadata": {},
   "outputs": [
    {
     "ename": "NameError",
     "evalue": "name 'SparkSession' is not defined",
     "output_type": "error",
     "traceback": [
      "\u001b[0;31m---------------------------------------------------------------------------\u001b[0m",
      "\u001b[0;31mNameError\u001b[0m                                 Traceback (most recent call last)",
      "Cell \u001b[0;32mIn [1], line 1\u001b[0m\n\u001b[0;32m----> 1\u001b[0m spark \u001b[38;5;241m=\u001b[39m \u001b[43mSparkSession\u001b[49m\u001b[38;5;241m.\u001b[39mbuilder\u001b[38;5;241m.\u001b[39mgetOrCreate()\n",
      "\u001b[0;31mNameError\u001b[0m: name 'SparkSession' is not defined"
     ]
    }
   ],
   "source": [
    "spark = SparkSession.builder.getOrCreate()"
   ]
  }
 ],
 "metadata": {
  "kernelspec": {
   "display_name": "Python 3 (ipykernel)",
   "language": "python",
   "name": "python3"
  },
  "language_info": {
   "codemirror_mode": {
    "name": "ipython",
    "version": 3
   },
   "file_extension": ".py",
   "mimetype": "text/x-python",
   "name": "python",
   "nbconvert_exporter": "python",
   "pygments_lexer": "ipython3",
   "version": "3.8.10"
  }
 },
 "nbformat": 4,
 "nbformat_minor": 5
}
