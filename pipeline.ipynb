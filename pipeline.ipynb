{
 "cells": [
  {
   "cell_type": "code",
   "execution_count": 1,
   "id": "5faff0f9-acca-4a77-b5a9-762ed97e3fa0",
   "metadata": {},
   "outputs": [],
   "source": [
    "from pyspark.sql import SparkSession\n",
    "import pandas as pd\n",
    "import gzip\n",
    "import json"
   ]
  },
  {
   "cell_type": "code",
   "execution_count": 3,
   "id": "53f55155-042f-448d-910e-3884abf3f8ab",
   "metadata": {},
   "outputs": [
    {
     "name": "stdout",
     "output_type": "stream",
     "text": [
      "22/12/12 14:52:50 WARN Utils: Your hostname, Zephyrus resolves to a loopback address: 127.0.1.1; using 172.17.140.69 instead (on interface eth0)\n",
      "22/12/12 14:52:50 WARN Utils: Set SPARK_LOCAL_IP if you need to bind to another address\n"
     ]
    },
    {
     "name": "stderr",
     "output_type": "stream",
     "text": [
      "Setting default log level to \"WARN\".\n",
      "To adjust logging level use sc.setLogLevel(newLevel). For SparkR, use setLogLevel(newLevel).\n"
     ]
    },
    {
     "name": "stdout",
     "output_type": "stream",
     "text": [
      "22/12/12 14:52:52 WARN NativeCodeLoader: Unable to load native-hadoop library for your platform... using builtin-java classes where applicable\n"
     ]
    }
   ],
   "source": [
    "spark = SparkSession.builder.getOrCreate()\n",
    "spark.conf.set(\"spark.sql.caseSensitive\", \"true\")"
   ]
  },
  {
   "cell_type": "code",
   "execution_count": 4,
   "id": "0f1c2ab7-f511-4105-9de7-31417fbfc8c1",
   "metadata": {},
   "outputs": [
    {
     "name": "stderr",
     "output_type": "stream",
     "text": [
      "                                                                                \r"
     ]
    },
    {
     "name": "stdout",
     "output_type": "stream",
     "text": [
      "root\n",
      " |-- asin: string (nullable = true)\n",
      " |-- image: array (nullable = true)\n",
      " |    |-- element: string (containsNull = true)\n",
      " |-- overall: double (nullable = true)\n",
      " |-- reviewText: string (nullable = true)\n",
      " |-- reviewTime: string (nullable = true)\n",
      " |-- reviewerID: string (nullable = true)\n",
      " |-- reviewerName: string (nullable = true)\n",
      " |-- style: struct (nullable = true)\n",
      " |    |-- Color Name:: string (nullable = true)\n",
      " |    |-- Color:: string (nullable = true)\n",
      " |    |-- Configuration:: string (nullable = true)\n",
      " |    |-- Edition:: string (nullable = true)\n",
      " |    |-- Format:: string (nullable = true)\n",
      " |    |-- Item Display Length:: string (nullable = true)\n",
      " |    |-- Item Package Quantity:: string (nullable = true)\n",
      " |    |-- Length:: string (nullable = true)\n",
      " |    |-- Model Number:: string (nullable = true)\n",
      " |    |-- Number of Items:: string (nullable = true)\n",
      " |    |-- Package Quantity:: string (nullable = true)\n",
      " |    |-- Package Type:: string (nullable = true)\n",
      " |    |-- Platform for Display:: string (nullable = true)\n",
      " |    |-- Platform:: string (nullable = true)\n",
      " |    |-- Product Packaging:: string (nullable = true)\n",
      " |    |-- Size Name:: string (nullable = true)\n",
      " |    |-- Size:: string (nullable = true)\n",
      " |    |-- style:: string (nullable = true)\n",
      " |    |-- styleName:: string (nullable = true)\n",
      " |-- summary: string (nullable = true)\n",
      " |-- unixReviewTime: long (nullable = true)\n",
      " |-- verified: boolean (nullable = true)\n",
      " |-- vote: string (nullable = true)\n",
      "\n",
      "There are 231392 rows of data\n"
     ]
    }
   ],
   "source": [
    "spark_df = spark.read.json('data/Musical_Instruments_5.json')\n",
    "spark_df.printSchema()\n",
    "print(f\"There are {spark_df.count()} rows of data\")"
   ]
  },
  {
   "cell_type": "code",
   "execution_count": 5,
   "id": "80e3a67d-c472-44e2-9f99-a85852f8febc",
   "metadata": {},
   "outputs": [
    {
     "data": {
      "text/plain": [
       "231392"
      ]
     },
     "execution_count": 5,
     "metadata": {},
     "output_type": "execute_result"
    }
   ],
   "source": [
    "spark_df.count()"
   ]
  },
  {
   "cell_type": "markdown",
   "id": "78c58fe8-6b1d-4b11-acf4-3e1a625355bf",
   "metadata": {},
   "source": [
    "### Dropping All Columns Except `overall`  and `reviewTest`"
   ]
  },
  {
   "cell_type": "code",
   "execution_count": 5,
   "id": "0f542f91-ac37-4b83-8f98-14cd72a5ae03",
   "metadata": {},
   "outputs": [],
   "source": [
    "import re"
   ]
  },
  {
   "cell_type": "code",
   "execution_count": 6,
   "id": "796f6abc-37af-468f-94cc-8004a9f950ce",
   "metadata": {},
   "outputs": [
    {
     "name": "stdout",
     "output_type": "stream",
     "text": [
      "root\n",
      " |-- overall: double (nullable = true)\n",
      " |-- reviewText: string (nullable = true)\n",
      "\n"
     ]
    },
    {
     "data": {
      "text/plain": [
       "<bound method RDD.cache of PythonRDD[17] at RDD at PythonRDD.scala:53>"
      ]
     },
     "execution_count": 6,
     "metadata": {},
     "output_type": "execute_result"
    }
   ],
   "source": [
    "# Drop all columns except reviewText and overall\n",
    "df = spark_df[['overall', 'reviewText']]\n",
    "df.printSchema()\n",
    "\n",
    "# Drop all rows with NA values\n",
    "df = df.dropna()\n",
    "\n",
    "# Convert to rdd\n",
    "rdd = df.rdd\n",
    "\n",
    "# Convert to lowercase\n",
    "rdd = rdd.map(lambda x: (x[0], x[1].lower()))\n",
    "\n",
    "# Strip non-alphanumeric & space chars\n",
    "rdd = rdd.map(lambda x: (x[0], re.sub(r'[^A-Za-z0-9 ]+', '', x[1])))\n",
    "\n",
    "# Convert overall rating to 1 or 0\n",
    "# 4-5 -> Positive\n",
    "# 1-3 -> Negative\n",
    "rdd = rdd.map(lambda x: (1, x[1]) if x[0] in [4,5] else (0, x[1]))\n",
    "\n",
    "# Convert review to array of words\n",
    "rdd = rdd.map(lambda x: (x[0], x[1].split()))\n",
    "\n",
    "# Filter out empty reviews\n",
    "rdd = rdd.filter(lambda x: len(x[1]) > 0)\n",
    "\n",
    "# Cache as basic_rdd\n",
    "basic_rdd = rdd\n",
    "basic_rdd.cache"
   ]
  },
  {
   "cell_type": "markdown",
   "id": "6c6a9c0c-99ab-4d7a-bd4f-7e643b945973",
   "metadata": {},
   "source": [
    "## Convert to N-Grams"
   ]
  },
  {
   "cell_type": "code",
   "execution_count": 74,
   "id": "07692f4e-043f-4414-9336-3baeedce42cd",
   "metadata": {},
   "outputs": [
    {
     "name": "stderr",
     "output_type": "stream",
     "text": [
      "                                                                                \r"
     ]
    },
    {
     "data": {
      "text/plain": [
       "231307"
      ]
     },
     "execution_count": 74,
     "metadata": {},
     "output_type": "execute_result"
    }
   ],
   "source": [
    "basic_rdd.count()"
   ]
  },
  {
   "cell_type": "code",
   "execution_count": 7,
   "id": "18729c13-492f-4a6d-a5b0-c8b104a335e6",
   "metadata": {},
   "outputs": [],
   "source": [
    "def ngram(n: int, x: [str]):\n",
    "    if n == 1:\n",
    "        return x\n",
    "    \n",
    "    result = []\n",
    "    \n",
    "    for i in range(len(x)-n+1):\n",
    "        item = []\n",
    "        a = i\n",
    "        for a in range(i, i+n):\n",
    "            item.append(x[a])\n",
    "        result.append(item)\n",
    "    return result"
   ]
  },
  {
   "cell_type": "code",
   "execution_count": 57,
   "id": "7b49f4fb-4abb-47fa-b9b9-d28b0aef7af8",
   "metadata": {},
   "outputs": [],
   "source": [
    "stopwords = []\n",
    "\n",
    "with open(\"data/stopwords.txt\") as file:\n",
    "    global stopwords\n",
    "    stopwords = file.read().splitlines()\n",
    "\n",
    "def filter_stopwords(x):\n",
    "    global stopwords\n",
    "    result = []\n",
    "    # print(type(x[1][0]))\n",
    "    # print(isinstance(x[1][0], str))\n",
    "    for s in x[1]:\n",
    "        # print(isinstance(s, str))\n",
    "        if isinstance(s, str):\n",
    "            if not s in stopwords:\n",
    "                result.append(s)\n",
    "            return (x[0], result)\n",
    "        if not s[0] in stopwords or not s[-1] in stopwords:\n",
    "            result.append(s)\n",
    "    return (x[0], result)"
   ]
  },
  {
   "cell_type": "code",
   "execution_count": 74,
   "id": "7fcaadbe-a17f-493f-a158-c205aae077ef",
   "metadata": {},
   "outputs": [
    {
     "name": "stderr",
     "output_type": "stream",
     "text": [
      "                                                                                \r"
     ]
    },
    {
     "name": "stdout",
     "output_type": "stream",
     "text": [
      "Num neg: 30768\n"
     ]
    },
    {
     "name": "stderr",
     "output_type": "stream",
     "text": [
      "                                                                                \r"
     ]
    },
    {
     "name": "stdout",
     "output_type": "stream",
     "text": [
      "total ngrams:  1389322\n",
      "shared ngrams: 12\n",
      "(('at', 'the', 'same', 'time'), 121)\n",
      "(('dont', 'waste', 'your', 'money'), 112)\n",
      "(('get', 'what', 'you', 'pay'), 555)\n",
      "(('i', 'sent', 'it', 'back'), 115)\n",
      "(('i', 'would', 'not', 'recommend'), 153)\n",
      "(('if', 'you', 'are', 'looking'), 123)\n",
      "(('it', 'does', 'the', 'job'), 105)\n",
      "(('out', 'of', 'the', 'box'), 413)\n",
      "(('right', 'out', 'of', 'the'), 193)\n",
      "(('there', 'is', 'no', 'way'), 108)\n",
      "(('this', 'is', 'a', 'good'), 139)\n",
      "(('this', 'is', 'a', 'great'), 122)\n"
     ]
    }
   ],
   "source": [
    "ngram_rdd = basic_rdd.filter(lambda x: x[0] == 0)\n",
    "\n",
    "print(f\"Num neg: {ngram_rdd.count()}\")\n",
    "\n",
    "n = 4\n",
    "ngram_rdd = ngram_rdd.map(lambda x: (x[0], ngram(n, x[1]))).map(filter_stopwords).filter(lambda x: len(x[1]) > 0)\n",
    "\n",
    "\n",
    "# ngram_rdd_nosw = ngram_rdd.map(lambda x: (x[0], filter_stopwords(x[1])))\n",
    "# ngram_counts_rdd = ngram_rdd.map(lambda x: len(x[1]))\n",
    "# ngram_nosw_count_rdd = ngram_rdd_nosw.map(lambda x: len(x[1]))\n",
    "\n",
    "# def sum(a, b):\n",
    "#     return a+b\n",
    "\n",
    "if n == 1:\n",
    "    ngrams_rdd = ngram_rdd.flatMap(lambda x: x[1]).map(lambda x: (x, 1))\n",
    "else:\n",
    "    ngrams_rdd = ngram_rdd.flatMap(lambda x: x[1]).map(lambda x: (tuple(x), 1))\n",
    "ngram_counts = ngrams_rdd.reduceByKey(sum)\n",
    "\n",
    "shared_grams = ngram_counts.filter(lambda x: x[1] > 100)\n",
    "\n",
    "# # count_total = ngrams_rdd.count()\n",
    "print(f\"total ngrams:  {ngram_counts.count()}\")\n",
    "print(f\"shared ngrams: {shared_grams.count()}\")\n",
    "\n",
    "for a in shared_grams.sortByKey().collect():\n",
    "    print(a)\n",
    "\n",
    "# ngrams_counts = ngrams_rdd.countByKey()\n",
    "\n",
    "# distinct_ngrams = ngrams_rdd.toDF().distinct()\n",
    "# print(f\"distinct ngrams: {distinct_ngrams.count()}\")\n",
    "\n",
    "# print(f\"No SW Filter:\\n\\tmin:  {ngram_counts_rdd.min()}\\n\\tmax:  {ngram_counts_rdd.max()}\\n\\tmean: {ngram_counts_rdd.mean()}\")\n",
    "# print(f\"With SW Filter:\\n\\tmin:  {ngram_nosw_count_rdd.min()}\\n\\tmax:  {ngram_nosw_count_rdd.max()}\\n\\tmean: {ngram_nosw_count_rdd.mean()}\")"
   ]
  },
  {
   "cell_type": "code",
   "execution_count": 176,
   "id": "e1be018e-18d0-4c99-9c46-6766e899c058",
   "metadata": {},
   "outputs": [
    {
     "name": "stderr",
     "output_type": "stream",
     "text": [
      "                                                                                \r"
     ]
    },
    {
     "name": "stdout",
     "output_type": "stream",
     "text": [
      "Reviews w/ 1-grams: 230993\n"
     ]
    },
    {
     "name": "stderr",
     "output_type": "stream",
     "text": [
      "                                                                                \r"
     ]
    },
    {
     "name": "stdout",
     "output_type": "stream",
     "text": [
      "Reviews w/ 2-grams: 222503\n"
     ]
    },
    {
     "name": "stderr",
     "output_type": "stream",
     "text": [
      "                                                                                \r"
     ]
    },
    {
     "name": "stdout",
     "output_type": "stream",
     "text": [
      "Reviews w/ 3-grams: 209881\n"
     ]
    },
    {
     "name": "stderr",
     "output_type": "stream",
     "text": [
      "[Stage 222:===============================>                        (9 + 7) / 16]\r"
     ]
    },
    {
     "name": "stdout",
     "output_type": "stream",
     "text": [
      "Reviews w/ 4-grams: 203566\n"
     ]
    },
    {
     "name": "stderr",
     "output_type": "stream",
     "text": [
      "                                                                                \r"
     ]
    }
   ],
   "source": [
    "one_gram_rdd = basic_rdd.map(lambda x: (x[0], ngram(1, x[1]))).map(filter_stopwords).filter(lambda x: len(x[1]) > 0)\n",
    "two_gram_rdd = basic_rdd.map(lambda x: (x[0], ngram(2, x[1]))).map(filter_stopwords).filter(lambda x: len(x[1]) > 0)\n",
    "three_gram_rdd = basic_rdd.map(lambda x: (x[0], ngram(3, x[1]))).map(filter_stopwords).filter(lambda x: len(x[1]) > 0)\n",
    "four_gram_rdd = basic_rdd.map(lambda x: (x[0], ngram(4, x[1]))).map(filter_stopwords).filter(lambda x: len(x[1]) > 0)\n",
    "\n",
    "# print(\"Reviews w/ 1-grams: \" + str(one_gram_rdd.filter(lambda x: x[0] == 0).count()))\n",
    "# print(\"Reviews w/ 2-grams: \" + str(two_gram_rdd.filter(lambda x: x[0] == 0).count()))\n",
    "# print(\"Reviews w/ 3-grams: \" + str(three_gram_rdd.filter(lambda x: x[0] == 0).count()))\n",
    "# print(\"Reviews w/ 4-grams: \" + str(four_gram_rdd.filter(lambda x: x[0] == 0).count()))\n",
    "\n",
    "print(\"Reviews w/ 1-grams: \" + str(one_gram_rdd.count()))\n",
    "print(\"Reviews w/ 2-grams: \" + str(two_gram_rdd.count()))\n",
    "print(\"Reviews w/ 3-grams: \" + str(three_gram_rdd.count()))\n",
    "print(\"Reviews w/ 4-grams: \" + str(four_gram_rdd.count()))\n",
    "\n",
    "# for a in rdd.take(3):\n",
    "    # print(a)"
   ]
  },
  {
   "cell_type": "code",
   "execution_count": 94,
   "id": "2fc07dc0-eb05-4f26-8c56-f2be3aacaa47",
   "metadata": {},
   "outputs": [
    {
     "name": "stdout",
     "output_type": "stream",
     "text": [
      "157\n"
     ]
    }
   ],
   "source": [
    "filter_stopwords([\"a\"])"
   ]
  },
  {
   "cell_type": "code",
   "execution_count": 66,
   "id": "02081d3b-73af-4bba-a90f-f0723a49d937",
   "metadata": {},
   "outputs": [
    {
     "name": "stderr",
     "output_type": "stream",
     "text": [
      "4\n",
      "14\n",
      "12\n",
      "133\n",
      "4\n",
      "6\n",
      "62\n",
      "25\n",
      "19\n",
      "27\n",
      "4\n",
      "50\n",
      "4\n",
      "14\n",
      "12\n",
      "7\n",
      "3\n",
      "8838\n",
      "\n",
      "56\n",
      "10\n",
      "14\n",
      "6\n",
      "89\n",
      "33\n",
      "2\n",
      "29\n",
      "28\n",
      "7\n",
      "9\n",
      "8\n",
      "3173\n",
      "\n",
      "30\n",
      "37\n",
      "70\n",
      "23\n",
      "118\n",
      "8\n",
      "240\n",
      "105\n",
      "21\n",
      "23\n",
      "5\n",
      "20\n",
      "4\n",
      "4\n",
      "18\n",
      "46\n",
      "4\n",
      "8\n",
      "282\n",
      "32\n",
      "34\n",
      "90\n",
      "42\n",
      "98\n",
      "22\n",
      "56\n",
      "71\n",
      "250\n",
      "6\n",
      "7\n",
      "33\n",
      "14\n",
      "312\n",
      "83\n",
      "\n",
      "28\n",
      "70\n",
      "4\n",
      "22\n",
      "16\n",
      "2\n",
      "237\n",
      "29\n",
      "21\n",
      "10\n",
      "96\n",
      "20\n",
      "23\n",
      "94\n",
      "51\n",
      "84\n",
      "61\n",
      "81\n",
      "84\n",
      "2\n",
      "75\n",
      "38\n",
      "250\n",
      "114\n",
      "10\n",
      "7622\n",
      "\n",
      "2\n",
      "58\n",
      "2\n",
      "137\n",
      "25\n",
      "7\n",
      "30\n",
      "90\n",
      "5\n",
      "18\n",
      "88\n",
      "174\n",
      "\n",
      "29\n",
      "51\n",
      "4\n",
      "3\n",
      "78\n",
      "5\n",
      "9\n",
      "8\n",
      "6\n",
      "41\n",
      "1\n",
      "29\n",
      "3\n",
      "136\n",
      "2\n",
      "7\n",
      "46\n",
      "68\n",
      "25\n",
      "3\n",
      "105\n",
      "21\n",
      "46\n",
      "43\n",
      "182\n",
      "119\n",
      "49\n",
      "42\n",
      "40\n",
      "45\n",
      "67\n",
      "23\n",
      "146\n",
      "32\n",
      "38\n",
      "59\n",
      "14\n",
      "10\n",
      "16\n"
     ]
    },
    {
     "name": "stdout",
     "output_type": "stream",
     "text": [
      "None\n",
      "None\n",
      "None\n"
     ]
    },
    {
     "name": "stderr",
     "output_type": "stream",
     "text": [
      "                                                                                \r"
     ]
    }
   ],
   "source": [
    "rdd = convert_to_n_grams(2, basic_rdd)"
   ]
  },
  {
   "cell_type": "code",
   "execution_count": 46,
   "id": "39cce0ba-93db-4ea2-a0ba-3031c90cd4a5",
   "metadata": {},
   "outputs": [
    {
     "name": "stderr",
     "output_type": "stream",
     "text": [
      "                                                                                \r"
     ]
    }
   ],
   "source": [
    "df.write.json(\"data/Musical_Instruments_2.json\")"
   ]
  },
  {
   "cell_type": "code",
   "execution_count": 48,
   "id": "705eb5a0-fc78-4f1a-b0d9-1e1376931de9",
   "metadata": {},
   "outputs": [],
   "source": [
    "df = spark.read.json(\"data/Musical_Instruments_2.json\")"
   ]
  },
  {
   "cell_type": "code",
   "execution_count": 51,
   "id": "9e49ebb0-56d2-4ed3-9fb5-6516e0c6fce4",
   "metadata": {},
   "outputs": [
    {
     "name": "stdout",
     "output_type": "stream",
     "text": [
      "root\n",
      " |-- overall: double (nullable = true)\n",
      " |-- reviewText: string (nullable = true)\n",
      "\n",
      "231344\n",
      "231344\n"
     ]
    }
   ],
   "source": [
    "df.printSchema()\n",
    "print(df.count())"
   ]
  }
 ],
 "metadata": {
  "kernelspec": {
   "display_name": "Python 3 (ipykernel)",
   "language": "python",
   "name": "python3"
  },
  "language_info": {
   "codemirror_mode": {
    "name": "ipython",
    "version": 3
   },
   "file_extension": ".py",
   "mimetype": "text/x-python",
   "name": "python",
   "nbconvert_exporter": "python",
   "pygments_lexer": "ipython3",
   "version": "3.8.10"
  }
 },
 "nbformat": 4,
 "nbformat_minor": 5
}
